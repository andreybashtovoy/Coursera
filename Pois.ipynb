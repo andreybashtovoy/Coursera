{
 "cells": [
  {
   "cell_type": "code",
   "execution_count": 9,
   "metadata": {
    "collapsed": false
   },
   "outputs": [
    {
     "data": {
      "text/plain": [
       "0.07763975155279504"
      ]
     },
     "execution_count": 9,
     "metadata": {},
     "output_type": "execute_result"
    }
   ],
   "source": [
    "0.8*0.01/(0.8*0.01+0.096*0.99)"
   ]
  },
  {
   "cell_type": "code",
   "execution_count": 37,
   "metadata": {
    "collapsed": false
   },
   "outputs": [
    {
     "name": "stdout",
     "output_type": "stream",
     "text": [
      "0.100818813445\n"
     ]
    }
   ],
   "source": [
    "import numpy as np\n",
    "k= 5 #np.arange(0., 30., 1.)\n",
    "p=((3.**k)/np.math.factorial(k))*np.exp(-3.)\n",
    "print p"
   ]
  },
  {
   "cell_type": "code",
   "execution_count": 60,
   "metadata": {
    "collapsed": false
   },
   "outputs": [
    {
     "data": {
      "text/plain": [
       "0.049787068367863944"
      ]
     },
     "execution_count": 60,
     "metadata": {},
     "output_type": "execute_result"
    }
   ],
   "source": [
    "np.exp(-3)"
   ]
  },
  {
   "cell_type": "code",
   "execution_count": 28,
   "metadata": {
    "collapsed": false
   },
   "outputs": [
    {
     "data": {
      "text/plain": [
       "4"
      ]
     },
     "execution_count": 28,
     "metadata": {},
     "output_type": "execute_result"
    }
   ],
   "source": [
    "3**3/np.math.factorial(3)"
   ]
  },
  {
   "cell_type": "code",
   "execution_count": 54,
   "metadata": {
    "collapsed": false
   },
   "outputs": [
    {
     "name": "stdout",
     "output_type": "stream",
     "text": [
      "2220.25530354 340.855101179 29.78 1287.03194539\n"
     ]
    }
   ],
   "source": [
    "E = 1197.69\n",
    "n=2016-1885\n",
    "D = 116182.2\n",
    "sig=(D)**0.5\n",
    "sig2=(D/n)**0.5\n",
    "#sig2 = (p*(1-p)/n)**0.5\n",
    "print E+3*sig, sig, round(sig2, 2),  p+3*sig2"
   ]
  },
  {
   "cell_type": "code",
   "execution_count": 56,
   "metadata": {
    "collapsed": false
   },
   "outputs": [
    {
     "name": "stdout",
     "output_type": "stream",
     "text": [
      "0.471906891076 0.778093108924\n"
     ]
    }
   ],
   "source": [
    "p = 0.625\n",
    "n=40\n",
    "sig2 = (p*(1-p)/n)**0.5\n",
    "print p-2*sig2, p+2*sig2"
   ]
  },
  {
   "cell_type": "code",
   "execution_count": 59,
   "metadata": {
    "collapsed": false
   },
   "outputs": [
    {
     "name": "stdout",
     "output_type": "stream",
     "text": [
      "0.00821917808219 -0.00123242796751 0.0176707841319\n"
     ]
    }
   ],
   "source": [
    "E = 3.\n",
    "n=365.\n",
    "p=E/n\n",
    "sig2 = (p*(1-p)/n)**0.5\n",
    "print p, p-2*sig2, p+2*sig2"
   ]
  },
  {
   "cell_type": "code",
   "execution_count": null,
   "metadata": {
    "collapsed": true
   },
   "outputs": [],
   "source": [
    "La=3.\n",
    "k = 5\n",
    "#P= 1-(P_0+P_1+P(2)+P(3)+P(4)+P(5))\n",
    "\n",
    "np.exp(-3)"
   ]
  }
 ],
 "metadata": {
  "anaconda-cloud": {},
  "kernelspec": {
   "display_name": "Python [Root]",
   "language": "python",
   "name": "Python [Root]"
  },
  "language_info": {
   "codemirror_mode": {
    "name": "ipython",
    "version": 2
   },
   "file_extension": ".py",
   "mimetype": "text/x-python",
   "name": "python",
   "nbconvert_exporter": "python",
   "pygments_lexer": "ipython2",
   "version": "2.7.11"
  }
 },
 "nbformat": 4,
 "nbformat_minor": 0
}
